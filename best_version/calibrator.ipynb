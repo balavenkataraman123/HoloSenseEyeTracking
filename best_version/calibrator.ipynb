{
 "cells": [
  {
   "cell_type": "code",
   "execution_count": 2,
   "metadata": {},
   "outputs": [],
   "source": [
    "import cv2\n",
    "import mediapipe as mp\n",
    "import holosense_libconfigs\n",
    "from holosense import SpatialTracker\n",
    "thisconf = holosense_libconfigs.configs\n",
    "import numpy as np\n",
    "import math\n",
    "import latexify\n",
    "import matplotlib.pyplot as plt\n",
    "cap = cv2.VideoCapture(thisconf.cameraname)\n",
    "#thisconf.configcamera(thisconf, cap)\n",
    "\n",
    "inches_per_pixel = thisconf.screen_diagonal/((thisconf.dispw ** 2 + thisconf.disph ** 2)**0.5)\n",
    "half_width = thisconf.dispw / 2 \n",
    "half_height = thisconf.disph / 2\n",
    "\n",
    "spatial_tracker = SpatialTracker(single_output=False)"
   ]
  },
  {
   "cell_type": "code",
   "execution_count": 3,
   "metadata": {},
   "outputs": [],
   "source": [
    "def screen_position_to_spatial(pixel_x, pixel_y, curved_screen=False, curve_radius=1800):\n",
    "    curve_radius /= (2.54 * 10) # convert the curvature radius from standard mm to inches\n",
    "    xcoord = (pixel_x - half_width) * inches_per_pixel\n",
    "    zcoord = 0\n",
    "    if curved_screen == True:\n",
    "        angle = xcoord / curve_radius\n",
    "        xcoord = curve_radius * math.sin(angle) # normally for these sin x = x, unless someone has a 48 inch ultrawide with a 1000R curve\n",
    "        zcoord = (1 - math.cos(angle)) * curve_radius\n",
    "    ycoord = (half_height - pixel_y) * inches_per_pixel\n",
    "    \n",
    "    return(xcoord, ycoord, zcoord)\n"
   ]
  },
  {
   "cell_type": "code",
   "execution_count": null,
   "metadata": {},
   "outputs": [],
   "source": [
    "def eyevec_to_screen(position, vector, curved_screen=False, curve_radius=1800):\n",
    "    "
   ]
  },
  {
   "cell_type": "code",
   "execution_count": null,
   "metadata": {},
   "outputs": [],
   "source": []
  }
 ],
 "metadata": {
  "kernelspec": {
   "display_name": "mlenv",
   "language": "python",
   "name": "python3"
  },
  "language_info": {
   "codemirror_mode": {
    "name": "ipython",
    "version": 3
   },
   "file_extension": ".py",
   "mimetype": "text/x-python",
   "name": "python",
   "nbconvert_exporter": "python",
   "pygments_lexer": "ipython3",
   "version": "3.9.19"
  }
 },
 "nbformat": 4,
 "nbformat_minor": 2
}
